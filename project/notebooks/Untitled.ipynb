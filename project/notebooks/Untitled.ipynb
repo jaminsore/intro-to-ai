{
 "cells": [
  {
   "cell_type": "code",
   "execution_count": 13,
   "metadata": {
    "collapsed": true
   },
   "outputs": [],
   "source": [
    "from aima import csp\n",
    "from aima import search\n",
    "from aima import agents\n",
    "from itertools import product, groupby\n",
    "from operator import itemgetter\n",
    "import random\n",
    "import re\n"
   ]
  },
  {
   "cell_type": "code",
   "execution_count": 57,
   "metadata": {
    "collapsed": false
   },
   "outputs": [],
   "source": [
    "def make_vars(nscrambles, nforms, nblocks, master=True):\n",
    "    blocks = range(1, nblocks + 1)\n",
    "    forms = range(1, nforms + 1)\n",
    "    out_dict = {(0, i) : [0] for i in blocks}\n",
    "    scrambles = range(1 if not master else 0, nscrambles + 1)\n",
    "    out_dict.update({tup : scrambles[:] for tup in product(forms, blocks)})\n",
    "    return out_dict\n",
    "\n",
    "\n",
    "def make_neighbors(variables):\n",
    "    key_func = itemgetter(0)\n",
    "    sorted_by_block = sorted(variables.keys(), key=key_func)\n",
    "    grped = groupby(sorted_by_block, key=key_func)\n",
    "    out_dict = {}\n",
    "    for _, group in grped:\n",
    "        group = sorted(group)\n",
    "        out_dict[group[0]] = [group[1]]\n",
    "        out_dict[group[-1]] = [group[-2]]\n",
    "        for i, var in enumerate(group[1:-1], start=1):\n",
    "            out_dict[var] = [group[i-1], group[i+1]]\n",
    "    return out_dict\n",
    "            \n",
    "\n",
    "def extract_args_as_attr(**kwds):\n",
    "    def decorator(f):\n",
    "        argspec = inspect.getargspec(f)\n",
    "        def wrapper(*args, **kwargs):\n",
    "            self = args[0]\n",
    "            for var, attr in kwds.items():\n",
    "                if var in kwargs:\n",
    "                    setattr(self, attr, kwargs[var])\n",
    "                else:\n",
    "                    setattr(self, attr, args[argspec.args.index(var)])\n",
    "            return f(*args, **kwargs)\n",
    "        return wrapper\n",
    "    return decorator\n",
    "\n",
    "assign_extractor = extract_args_as_attr(assignment='_assignment')\n",
    "\n",
    "class FormScramblingCSP(csp.CSP):\n",
    "    \n",
    "    def __init__(self, variables, domains, neighbors, key_dict, global_constraints):\n",
    "        csp.CSP.__init__(self, variables, domains, neighbors, self.constraints)\n",
    "        self._global_constraints = global_constraints\n",
    "        self._key_dict = key_dict\n",
    "\n",
    "    def _check_neighbors(self, A, a, B, b):\n",
    "        \n",
    "        a_key = self._key_dict[A[1]][a]\n",
    "        b_key = self._key_dict[B[1]][b]\n",
    "        if A[1] < B[1]:\n",
    "            key = a_key + b_key\n",
    "            return not any(all(chnk[0] == c for c in chnk[1:]) for chnk in iter_chunks())\n",
    "    \n",
    "    def _check_friends(self, A, a, b, B):\n",
    "        return True\n",
    "    \n",
    "    def _check_enemies(self, A, a, B, b):\n",
    "        return True\n",
    "    \n",
    "    def _check_block_overlaps(self, A, a, B, b):\n",
    "        return True\n",
    "    \n",
    "    def _check_key_overlaps(self, A, a, B, b):\n",
    "        return True\n",
    "    \n",
    "    def constraints(self, A, a, B, b):\n",
    "#         print(self._assignment)\n",
    "        print(B in self.neighbors[A])\n",
    "        return True\n",
    "    \n",
    "    unassign = assign_extractor(csp.CSP.unassign)\n",
    "    nconflicts = assign_extractor(csp.CSP.nconflicts)\n",
    "    assign = assign_extractor(csp.CSP.assign)\n",
    "    display = assign_extractor(csp.CSP.display)\n",
    "    \n"
   ]
  },
  {
   "cell_type": "code",
   "execution_count": 53,
   "metadata": {
    "collapsed": false
   },
   "outputs": [],
   "source": [
    "import inspect\n",
    "\n",
    "def extract_args_as_attr(**kwds):\n",
    "    def decorator(f):\n",
    "        argspec = inspect.getargspec(f)\n",
    "        def wrapper(*args, **kwargs):\n",
    "            self = args[0]\n",
    "            for var, attr in kwds.items():\n",
    "                if var in kwargs:\n",
    "                    setattr(self, attr, kwargs[var])\n",
    "                else:\n",
    "                    setattr(self, attr, args[argspec.args.index(var)])\n",
    "            return f(*args, **kwargs)\n",
    "        return wrapper\n",
    "    return decorator\n",
    "\n",
    "class MyClass(object):    \n",
    "    @extract_args_as_attr(a='_a', b='_b')\n",
    "    def my_method(self, a, b):\n",
    "        return a + b\n",
    "    \n",
    "\n",
    "c = MyClass()\n",
    "    "
   ]
  },
  {
   "cell_type": "code",
   "execution_count": 58,
   "metadata": {
    "collapsed": false
   },
   "outputs": [],
   "source": [
    "variables = make_vars(7, 5, 9)\n",
    "neighbors = make_neighbors(variables)\n",
    "\n",
    "my_csp = FormScramblingCSP(variables.keys(), variables, neighbors, {})"
   ]
  },
  {
   "cell_type": "code",
   "execution_count": 20,
   "metadata": {
    "collapsed": false
   },
   "outputs": [
    {
     "data": {
      "text/plain": [
       "['unassign', 'nconflicts', 'assign', 'display']"
      ]
     },
     "execution_count": 20,
     "metadata": {},
     "output_type": "execute_result"
    }
   ],
   "source": [
    "public_attrs = [attr for attr in csp.CSP.__dict__ if callable(csp.CSP.__dict__[attr]) and 'assignment' in inspect.getargspec(csp.CSP.__dict__[attr]).args]\n",
    "public_attrs"
   ]
  },
  {
   "cell_type": "code",
   "execution_count": 61,
   "metadata": {
    "collapsed": false,
    "scrolled": false
   },
   "outputs": [
    {
     "ename": "SyntaxError",
     "evalue": "invalid syntax (<ipython-input-61-8f66443d7e97>, line 36)",
     "output_type": "error",
     "traceback": [
      "\u001b[1;36m  File \u001b[1;32m\"<ipython-input-61-8f66443d7e97>\"\u001b[1;36m, line \u001b[1;32m36\u001b[0m\n\u001b[1;33m    first =\u001b[0m\n\u001b[1;37m            ^\u001b[0m\n\u001b[1;31mSyntaxError\u001b[0m\u001b[1;31m:\u001b[0m invalid syntax\n"
     ]
    }
   ],
   "source": [
    "from itertools import islice, combinations\n",
    "from collections import defaultdict, Counter\n",
    "\n",
    "def all_equal(a):\n",
    "    a_it = iter(a)\n",
    "    a_0 = next(a_it)\n",
    "    return all(a_0 == a_i for a_i in a_it)\n",
    "\n",
    "\n",
    "def iter_chunks(a, chunk_size):\n",
    "    it_a = iter(a)\n",
    "    while True:\n",
    "        out = list(islice(it_a, chunk_size))\n",
    "        if out: \n",
    "            yield out\n",
    "        else: \n",
    "            break\n",
    "\n",
    "            \n",
    "def count_overlaps(a, b):\n",
    "    return sum(a_i == b_i for a_i, b_i in zip(a, b))\n",
    "\n",
    "class GlobalConstraints(object):\n",
    "    \n",
    "    def __init__(self, nforms, key_dict, variables, key_overlaps=24, n_border=3, use_all=True, max_reuse=2):\n",
    "        self._nforms = nforms\n",
    "        self._key_dict = key_dict\n",
    "        self._variables = sorted(variables)\n",
    "        self._key_overlaps = key_overlaps\n",
    "        self._n_border = n_border\n",
    "        self._use_all = use_all\n",
    "        self._max_reuse = max_reuse \n",
    "        \n",
    "    def __call__(self, A, a, B, b, assignment):\n",
    "        assignment = assignment.copy()\n",
    "        assignment[A] = a\n",
    "        assignment[B] = b\n",
    "        return all(\n",
    "            self._check_borders(A, a, B, b),\n",
    "            self._check_usage(assignment),\n",
    "            self._check_key_overlaps(assignment)\n",
    "        )\n",
    "    \n",
    "    def _check_borders(self, A, a, B, b):\n",
    "        assert A[0] == B[0]\n",
    "        if A[1] < B[1]:\n",
    "            first, second = (A[1], a), (B[1], b)\n",
    "        else:\n",
    "            first, second = (B[1], b), (A[1], a)\n",
    "        border_seq = self._key_dict[first] + self._key_dict[second]\n",
    "        return not any(all_equal(chunk) for chunk in iter_chunks(border_seq, self._n_border))\n",
    "    \n",
    "    \n",
    "    def _get_form_key_dict(self, assignment):\n",
    "        form_key_dict = defaultdict(list)\n",
    "        #key_dict is {(block, scramble) : answer_key}\n",
    "        #assignment is {(form, block) : scramble}\n",
    "        for var in self._variables:\n",
    "            if var in assignment:\n",
    "                form_key_dict[var[0]].append(self._key_dict[(var[1], assignment[var])])\n",
    "            else:\n",
    "                form_key_dict[var[0]].append([])\n",
    "        return form_key_dict\n",
    "    \n",
    "    \n",
    "    def _check_overlaps(self, assignment):\n",
    "        form_key_dict = self._get_form_key_dict(assignment)\n",
    "        for form1, form2 in combinations(form_key_dict.values(), 2):\n",
    "            total = sum(count_overlaps(fb1, fb2) for fb1, fb2 in zip(form1, form2))\n",
    "            if total > self._key_overlaps:\n",
    "                return False\n",
    "        return True\n",
    "    \n",
    "    \n",
    "    def _check_usage(self, assignment):\n",
    "        used_vars = defaultdict(Counter)\n",
    "        for var, val in assignment.items():\n",
    "            used_vars[var[1]][val] += 1\n",
    "            if used_vars[var[1]][val] > self._max_reuse:\n",
    "                return False\n",
    "        \n",
    "        for block, counts in used_vars.items():\n",
    "            sum(counts.items()) < self._nforms & len(counts)\n",
    "            \n",
    "        \n",
    "            \n",
    "            \n",
    "            \n",
    "        \n",
    "            \n",
    "        "
   ]
  },
  {
   "cell_type": "code",
   "execution_count": 1,
   "metadata": {
    "collapsed": true
   },
   "outputs": [],
   "source": [
    "from collections import Counter\n",
    "Counter."
   ]
  },
  {
   "cell_type": "code",
   "execution_count": 77,
   "metadata": {
    "collapsed": false
   },
   "outputs": [
    {
     "data": {
      "text/plain": [
       "{(1, 0): ['B', 'B', 'B', 'B', 'B', 'A', 'A'],\n",
       " (2, 0): ['D', 'C', 'D', 'B', 'D', 'A', 'C'],\n",
       " (3, 0): ['A', 'A', 'A', 'C', 'C', 'D', 'D'],\n",
       " (4, 0): ['B', 'D', 'B', 'B', 'A', 'A', 'D'],\n",
       " (5, 0): ['B', 'C', 'C', 'A', 'D', 'D', 'C'],\n",
       " (6, 0): ['B', 'D', 'B', 'C', 'B', 'B', 'D'],\n",
       " (7, 0): ['C', 'C', 'A', 'A', 'D', 'D', 'B'],\n",
       " (8, 0): ['C', 'A', 'A', 'B', 'C', 'B', 'C'],\n",
       " (9, 0): ['D', 'B', 'D', 'D', 'C', 'D', 'D']}"
      ]
     },
     "execution_count": 77,
     "metadata": {},
     "output_type": "execute_result"
    }
   ],
   "source": [
    "from operator import itemgetter\n",
    "from itertools import groupby\n",
    "from string import ascii_uppercase\n",
    "import random\n",
    "\n",
    "def get_random_keys(n_keys, keys=ascii_uppercase[:4]):\n",
    "    return [random.choice(keys) for _ in xrange(n_keys)]\n",
    "\n",
    "def get_random_shuffle(a):\n",
    "    out = a[:]\n",
    "    random.shuffle(out)\n",
    "    return out\n",
    "\n",
    "def get_block_scram(key, master_dict):\n",
    "    return get_random_shuffle(master_dict[(key[0], 0)])\n",
    "n_scrams = 4\n",
    "\n",
    "master_v = [v[::-1] for v in variables if v[0] == 0]\n",
    "block_scrams = product(range(1, len(master_v) + 1), range(1, n_scrams + 1))\n",
    "master_dict = {v : get_random_keys(7) for v in master_v}\n",
    "block_scrams = {key : get_block_scram(key, master_dict) for key in block_scrams}\n",
    "\n",
    "master_dict"
   ]
  },
  {
   "cell_type": "code",
   "execution_count": 78,
   "metadata": {
    "collapsed": false
   },
   "outputs": [
    {
     "data": {
      "text/plain": [
       "{(1, 0): ['B', 'B', 'B', 'B', 'B', 'A', 'A'],\n",
       " (1, 1): ['B', 'B', 'B', 'A', 'A', 'B', 'B'],\n",
       " (1, 2): ['B', 'B', 'B', 'A', 'B', 'A', 'B'],\n",
       " (1, 3): ['B', 'B', 'A', 'B', 'A', 'B', 'B'],\n",
       " (1, 4): ['B', 'A', 'B', 'B', 'B', 'B', 'A'],\n",
       " (2, 0): ['D', 'C', 'D', 'B', 'D', 'A', 'C'],\n",
       " (2, 1): ['D', 'D', 'A', 'C', 'B', 'D', 'C'],\n",
       " (2, 2): ['B', 'D', 'D', 'D', 'C', 'C', 'A'],\n",
       " (2, 3): ['D', 'B', 'C', 'C', 'D', 'D', 'A'],\n",
       " (2, 4): ['C', 'C', 'D', 'B', 'D', 'A', 'D'],\n",
       " (3, 0): ['A', 'A', 'A', 'C', 'C', 'D', 'D'],\n",
       " (3, 1): ['A', 'D', 'C', 'A', 'D', 'A', 'C'],\n",
       " (3, 2): ['A', 'C', 'C', 'A', 'A', 'D', 'D'],\n",
       " (3, 3): ['C', 'C', 'A', 'A', 'D', 'A', 'D'],\n",
       " (3, 4): ['D', 'A', 'C', 'C', 'A', 'A', 'D'],\n",
       " (4, 0): ['B', 'D', 'B', 'B', 'A', 'A', 'D'],\n",
       " (4, 1): ['B', 'A', 'D', 'A', 'D', 'B', 'B'],\n",
       " (4, 2): ['A', 'B', 'D', 'A', 'D', 'B', 'B'],\n",
       " (4, 3): ['D', 'B', 'A', 'B', 'B', 'A', 'D'],\n",
       " (4, 4): ['D', 'B', 'B', 'A', 'D', 'B', 'A'],\n",
       " (5, 0): ['B', 'C', 'C', 'A', 'D', 'D', 'C'],\n",
       " (5, 1): ['C', 'C', 'A', 'D', 'C', 'D', 'B'],\n",
       " (5, 2): ['B', 'A', 'C', 'C', 'D', 'D', 'C'],\n",
       " (5, 3): ['C', 'A', 'B', 'D', 'D', 'C', 'C'],\n",
       " (5, 4): ['C', 'D', 'D', 'A', 'C', 'B', 'C'],\n",
       " (6, 0): ['B', 'D', 'B', 'C', 'B', 'B', 'D'],\n",
       " (6, 1): ['B', 'D', 'B', 'B', 'C', 'B', 'D'],\n",
       " (6, 2): ['B', 'D', 'B', 'B', 'C', 'B', 'D'],\n",
       " (6, 3): ['D', 'D', 'C', 'B', 'B', 'B', 'B'],\n",
       " (6, 4): ['D', 'B', 'B', 'D', 'C', 'B', 'B'],\n",
       " (7, 0): ['C', 'C', 'A', 'A', 'D', 'D', 'B'],\n",
       " (7, 1): ['D', 'A', 'C', 'C', 'A', 'B', 'D'],\n",
       " (7, 2): ['C', 'D', 'B', 'C', 'A', 'A', 'D'],\n",
       " (7, 3): ['B', 'D', 'D', 'C', 'A', 'C', 'A'],\n",
       " (7, 4): ['A', 'D', 'B', 'C', 'C', 'D', 'A'],\n",
       " (8, 0): ['C', 'A', 'A', 'B', 'C', 'B', 'C'],\n",
       " (8, 1): ['C', 'A', 'B', 'A', 'C', 'B', 'C'],\n",
       " (8, 2): ['C', 'C', 'B', 'A', 'C', 'A', 'B'],\n",
       " (8, 3): ['B', 'C', 'B', 'A', 'C', 'A', 'C'],\n",
       " (8, 4): ['B', 'C', 'B', 'C', 'A', 'A', 'C'],\n",
       " (9, 0): ['D', 'B', 'D', 'D', 'C', 'D', 'D'],\n",
       " (9, 1): ['D', 'D', 'D', 'D', 'B', 'C', 'D'],\n",
       " (9, 2): ['D', 'C', 'D', 'D', 'D', 'D', 'B'],\n",
       " (9, 3): ['D', 'D', 'B', 'D', 'C', 'D', 'D'],\n",
       " (9, 4): ['C', 'D', 'D', 'D', 'D', 'D', 'B']}"
      ]
     },
     "execution_count": 78,
     "metadata": {},
     "output_type": "execute_result"
    }
   ],
   "source": [
    "block_scrams.update(master_dict)\n",
    "block_scrams"
   ]
  },
  {
   "cell_type": "code",
   "execution_count": 80,
   "metadata": {
    "collapsed": false
   },
   "outputs": [],
   "source": [
    "from collections import Counter\n",
    "c = Counter()"
   ]
  },
  {
   "cell_type": "code",
   "execution_count": 82,
   "metadata": {
    "collapsed": false
   },
   "outputs": [
    {
     "ename": "TypeError",
     "evalue": "'Counter' object is not callable",
     "output_type": "error",
     "traceback": [
      "\u001b[1;31m---------------------------------------------------------------------------\u001b[0m",
      "\u001b[1;31mTypeError\u001b[0m                                 Traceback (most recent call last)",
      "\u001b[1;32m<ipython-input-82-780fa97fed09>\u001b[0m in \u001b[0;36m<module>\u001b[1;34m()\u001b[0m\n\u001b[1;32m----> 1\u001b[1;33m \u001b[0mc\u001b[0m\u001b[1;33m(\u001b[0m\u001b[1;36m0\u001b[0m\u001b[1;33m)\u001b[0m\u001b[1;33m\u001b[0m\u001b[0m\n\u001b[0m",
      "\u001b[1;31mTypeError\u001b[0m: 'Counter' object is not callable"
     ]
    }
   ],
   "source": [
    "c."
   ]
  },
  {
   "cell_type": "code",
   "execution_count": 73,
   "metadata": {
    "collapsed": false
   },
   "outputs": [
    {
     "name": "stdout",
     "output_type": "stream",
     "text": [
      "garage\n",
      "house\n",
      "garden\n",
      "garage\n",
      "villa\n",
      "garage\n",
      "villa\n",
      "garden\n",
      "house\n",
      "garden\n"
     ]
    }
   ],
   "source": [
    "from itertools import islice\n",
    "def get_name():\n",
    "    names = NAMES['house']\n",
    "    return names\n",
    "\n",
    "NAMES = {'house' : 'garage'}\n",
    "\n",
    "\n",
    "def change_var():\n",
    "    NAMES['house'] = random.choice(('house', 'garage', 'garden', 'villa'))\n",
    "    \n",
    "\n",
    "def test():\n",
    "    while True:\n",
    "        yield get_name()\n",
    "        change_var()\n",
    "    \n",
    "\n",
    "for t in islice(test(), 10):\n",
    "    print t\n"
   ]
  },
  {
   "cell_type": "code",
   "execution_count": 121,
   "metadata": {
    "collapsed": false
   },
   "outputs": [],
   "source": [
    "total = 35 + 39 + 9 + 15"
   ]
  },
  {
   "cell_type": "code",
   "execution_count": 133,
   "metadata": {
    "collapsed": false
   },
   "outputs": [],
   "source": [
    "points = 33.81 + 34.04 + 9 + 15"
   ]
  },
  {
   "cell_type": "code",
   "execution_count": 134,
   "metadata": {
    "collapsed": false
   },
   "outputs": [
    {
     "data": {
      "text/plain": [
       "0.9372448979591836"
      ]
     },
     "execution_count": 134,
     "metadata": {},
     "output_type": "execute_result"
    }
   ],
   "source": [
    "points / total"
   ]
  },
  {
   "cell_type": "code",
   "execution_count": 132,
   "metadata": {
    "collapsed": false
   },
   "outputs": [
    {
     "data": {
      "text/plain": [
       "33.93"
      ]
     },
     "execution_count": 132,
     "metadata": {},
     "output_type": "execute_result"
    }
   ],
   "source": [
    "39 * (.79 + .95) / 2."
   ]
  },
  {
   "cell_type": "code",
   "execution_count": 130,
   "metadata": {
    "collapsed": false
   },
   "outputs": [
    {
     "data": {
      "text/plain": [
       "0.87"
      ]
     },
     "execution_count": 130,
     "metadata": {},
     "output_type": "execute_result"
    }
   ],
   "source": [
    "(.79 + .95) / 2"
   ]
  },
  {
   "cell_type": "code",
   "execution_count": 131,
   "metadata": {
    "collapsed": false
   },
   "outputs": [
    {
     "data": {
      "text/plain": [
       "30.45"
      ]
     },
     "execution_count": 131,
     "metadata": {},
     "output_type": "execute_result"
    }
   ],
   "source": [
    ".87 * 35"
   ]
  },
  {
   "cell_type": "code",
   "execution_count": null,
   "metadata": {
    "collapsed": true
   },
   "outputs": [],
   "source": []
  }
 ],
 "metadata": {
  "kernelspec": {
   "display_name": "Python 2",
   "language": "python",
   "name": "python2"
  },
  "language_info": {
   "codemirror_mode": {
    "name": "ipython",
    "version": 2
   },
   "file_extension": ".py",
   "mimetype": "text/x-python",
   "name": "python",
   "nbconvert_exporter": "python",
   "pygments_lexer": "ipython2",
   "version": "2.7.10"
  }
 },
 "nbformat": 4,
 "nbformat_minor": 0
}
